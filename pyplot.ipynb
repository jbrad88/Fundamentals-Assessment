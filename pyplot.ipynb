{
 "cells": [
  {
   "cell_type": "markdown",
   "metadata": {},
   "source": [
    "### Matplotlib\n",
    "---\n",
    "GMIT Fundamentals of Data Analysis 2021 - Jody Bradley G00387878\n",
    "\n",
    "#### Introduction\n",
    "\n",
    "Matplotlib is \"a comprehensive library for creating static, animated, and interactive visualizations in Python\" [1]. A neurobiologist named John D. Hunter began developing matplotlib in 2003. After the tragic death of Hunter in 2012, matplotlib was developed and maintained by a community of programmers [2]. Matplotlib allows us to visualise huge amonts of data in an easily digestible way, and the package consists of several plots including scatter, bar, line and histogram [3]. We'll be looking into some of these in more detail below. \n",
    "\n",
    "#### Installation\n",
    "Firstly, to install the matplotlib package, run the following command:\n",
    "```\n",
    "python -mpip install -U matplotlib\n",
    "```\n",
    "#### Importing matplotlib:\n",
    "To use matplotlib in our program, we need to import the module - \"plt\" is commonly used an an abbreviation, but you can name it as you wish. \n",
    "```python\n",
    "import matplotlib.pyplot as plt\n",
    "```\n"
   ]
  },
  {
   "cell_type": "code",
   "execution_count": null,
   "metadata": {},
   "outputs": [],
   "source": []
  },
  {
   "cell_type": "code",
   "execution_count": null,
   "metadata": {},
   "outputs": [],
   "source": []
  },
  {
   "cell_type": "code",
   "execution_count": null,
   "metadata": {},
   "outputs": [],
   "source": []
  },
  {
   "cell_type": "code",
   "execution_count": null,
   "metadata": {},
   "outputs": [],
   "source": []
  },
  {
   "cell_type": "code",
   "execution_count": null,
   "metadata": {},
   "outputs": [],
   "source": []
  },
  {
   "cell_type": "markdown",
   "metadata": {},
   "source": [
    "## References\n",
    "---\n",
    "1. https://matplotlib.org/\n",
    "2. https://realpython.com/python-matplotlib-guide/\n",
    "3. https://www.geeksforgeeks.org/python-introduction-matplotlib/\n"
   ]
  },
  {
   "cell_type": "code",
   "execution_count": null,
   "metadata": {},
   "outputs": [],
   "source": []
  }
 ],
 "metadata": {
  "kernelspec": {
   "display_name": "Python 3",
   "language": "python",
   "name": "python3"
  },
  "language_info": {
   "codemirror_mode": {
    "name": "ipython",
    "version": 3
   },
   "file_extension": ".py",
   "mimetype": "text/x-python",
   "name": "python",
   "nbconvert_exporter": "python",
   "pygments_lexer": "ipython3",
   "version": "3.8.3"
  }
 },
 "nbformat": 4,
 "nbformat_minor": 4
}
